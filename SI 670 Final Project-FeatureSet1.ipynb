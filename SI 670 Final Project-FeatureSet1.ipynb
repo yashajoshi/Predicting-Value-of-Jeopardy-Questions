{
 "cells": [
  {
   "cell_type": "markdown",
   "metadata": {},
   "source": [
    "# SI 670 Final Project: Predicting Value of Jeopardy Questions"
   ]
  },
  {
   "cell_type": "markdown",
   "metadata": {},
   "source": [
    "### Data Exploration & Preparation"
   ]
  },
  {
   "cell_type": "code",
   "execution_count": 1,
   "metadata": {},
   "outputs": [
    {
     "name": "stdout",
     "output_type": "stream",
     "text": [
      "(216930, 7)\n"
     ]
    },
    {
     "data": {
      "text/html": [
       "<div>\n",
       "<style scoped>\n",
       "    .dataframe tbody tr th:only-of-type {\n",
       "        vertical-align: middle;\n",
       "    }\n",
       "\n",
       "    .dataframe tbody tr th {\n",
       "        vertical-align: top;\n",
       "    }\n",
       "\n",
       "    .dataframe thead th {\n",
       "        text-align: right;\n",
       "    }\n",
       "</style>\n",
       "<table border=\"1\" class=\"dataframe\">\n",
       "  <thead>\n",
       "    <tr style=\"text-align: right;\">\n",
       "      <th></th>\n",
       "      <th>Show Number</th>\n",
       "      <th>Air Date</th>\n",
       "      <th>Round</th>\n",
       "      <th>Category</th>\n",
       "      <th>Value</th>\n",
       "      <th>Question</th>\n",
       "      <th>Answer</th>\n",
       "    </tr>\n",
       "  </thead>\n",
       "  <tbody>\n",
       "    <tr>\n",
       "      <th>0</th>\n",
       "      <td>4680</td>\n",
       "      <td>2004-12-31</td>\n",
       "      <td>Jeopardy!</td>\n",
       "      <td>HISTORY</td>\n",
       "      <td>$200</td>\n",
       "      <td>For the last 8 years of his life, Galileo was ...</td>\n",
       "      <td>Copernicus</td>\n",
       "    </tr>\n",
       "    <tr>\n",
       "      <th>1</th>\n",
       "      <td>4680</td>\n",
       "      <td>2004-12-31</td>\n",
       "      <td>Jeopardy!</td>\n",
       "      <td>ESPN's TOP 10 ALL-TIME ATHLETES</td>\n",
       "      <td>$200</td>\n",
       "      <td>No. 2: 1912 Olympian; football star at Carlisl...</td>\n",
       "      <td>Jim Thorpe</td>\n",
       "    </tr>\n",
       "    <tr>\n",
       "      <th>2</th>\n",
       "      <td>4680</td>\n",
       "      <td>2004-12-31</td>\n",
       "      <td>Jeopardy!</td>\n",
       "      <td>EVERYBODY TALKS ABOUT IT...</td>\n",
       "      <td>$200</td>\n",
       "      <td>The city of Yuma in this state has a record av...</td>\n",
       "      <td>Arizona</td>\n",
       "    </tr>\n",
       "    <tr>\n",
       "      <th>3</th>\n",
       "      <td>4680</td>\n",
       "      <td>2004-12-31</td>\n",
       "      <td>Jeopardy!</td>\n",
       "      <td>THE COMPANY LINE</td>\n",
       "      <td>$200</td>\n",
       "      <td>In 1963, live on \"The Art Linkletter Show\", th...</td>\n",
       "      <td>McDonald's</td>\n",
       "    </tr>\n",
       "    <tr>\n",
       "      <th>4</th>\n",
       "      <td>4680</td>\n",
       "      <td>2004-12-31</td>\n",
       "      <td>Jeopardy!</td>\n",
       "      <td>EPITAPHS &amp; TRIBUTES</td>\n",
       "      <td>$200</td>\n",
       "      <td>Signer of the Dec. of Indep., framer of the Co...</td>\n",
       "      <td>John Adams</td>\n",
       "    </tr>\n",
       "  </tbody>\n",
       "</table>\n",
       "</div>"
      ],
      "text/plain": [
       "   Show Number    Air Date      Round                         Category Value  \\\n",
       "0         4680  2004-12-31  Jeopardy!                          HISTORY  $200   \n",
       "1         4680  2004-12-31  Jeopardy!  ESPN's TOP 10 ALL-TIME ATHLETES  $200   \n",
       "2         4680  2004-12-31  Jeopardy!      EVERYBODY TALKS ABOUT IT...  $200   \n",
       "3         4680  2004-12-31  Jeopardy!                 THE COMPANY LINE  $200   \n",
       "4         4680  2004-12-31  Jeopardy!              EPITAPHS & TRIBUTES  $200   \n",
       "\n",
       "                                            Question      Answer  \n",
       "0  For the last 8 years of his life, Galileo was ...  Copernicus  \n",
       "1  No. 2: 1912 Olympian; football star at Carlisl...  Jim Thorpe  \n",
       "2  The city of Yuma in this state has a record av...     Arizona  \n",
       "3  In 1963, live on \"The Art Linkletter Show\", th...  McDonald's  \n",
       "4  Signer of the Dec. of Indep., framer of the Co...  John Adams  "
      ]
     },
     "execution_count": 1,
     "metadata": {},
     "output_type": "execute_result"
    }
   ],
   "source": [
    "# read in and preview data\n",
    "\n",
    "import pandas as pd\n",
    "\n",
    "jeopardy_data = pd.read_csv('JEOPARDY_CSV.csv')\n",
    "# remove spaces from column names\n",
    "jeopardy_data.columns = [col.strip() for col in jeopardy_data.columns]\n",
    "print(jeopardy_data.shape)\n",
    "jeopardy_data.head()"
   ]
  },
  {
   "cell_type": "code",
   "execution_count": 2,
   "metadata": {
    "scrolled": true
   },
   "outputs": [
    {
     "name": "stdout",
     "output_type": "stream",
     "text": [
      "(4000, 7)\n"
     ]
    },
    {
     "data": {
      "text/html": [
       "<div>\n",
       "<style scoped>\n",
       "    .dataframe tbody tr th:only-of-type {\n",
       "        vertical-align: middle;\n",
       "    }\n",
       "\n",
       "    .dataframe tbody tr th {\n",
       "        vertical-align: top;\n",
       "    }\n",
       "\n",
       "    .dataframe thead th {\n",
       "        text-align: right;\n",
       "    }\n",
       "</style>\n",
       "<table border=\"1\" class=\"dataframe\">\n",
       "  <thead>\n",
       "    <tr style=\"text-align: right;\">\n",
       "      <th></th>\n",
       "      <th>Show Number</th>\n",
       "      <th>Air Date</th>\n",
       "      <th>Round</th>\n",
       "      <th>Category</th>\n",
       "      <th>Value</th>\n",
       "      <th>Question</th>\n",
       "      <th>Answer</th>\n",
       "    </tr>\n",
       "  </thead>\n",
       "  <tbody>\n",
       "    <tr>\n",
       "      <th>166403</th>\n",
       "      <td>4536</td>\n",
       "      <td>2004-05-03</td>\n",
       "      <td>Jeopardy!</td>\n",
       "      <td>DOUBLE A, B, Cs</td>\n",
       "      <td>$200</td>\n",
       "      <td>I'm this, you're glue, everything you say boun...</td>\n",
       "      <td>rubber</td>\n",
       "    </tr>\n",
       "    <tr>\n",
       "      <th>781</th>\n",
       "      <td>4335</td>\n",
       "      <td>2003-06-06</td>\n",
       "      <td>Jeopardy!</td>\n",
       "      <td>MY PLACE?</td>\n",
       "      <td>$200</td>\n",
       "      <td>A Norman could say, \"I'm the king of the motte...</td>\n",
       "      <td>castle</td>\n",
       "    </tr>\n",
       "    <tr>\n",
       "      <th>119920</th>\n",
       "      <td>5224</td>\n",
       "      <td>2007-05-03</td>\n",
       "      <td>Jeopardy!</td>\n",
       "      <td>POTPOURRI</td>\n",
       "      <td>$200</td>\n",
       "      <td>Shelley &amp; Eliot would be happy to know that Ap...</td>\n",
       "      <td>poetry</td>\n",
       "    </tr>\n",
       "    <tr>\n",
       "      <th>33882</th>\n",
       "      <td>5668</td>\n",
       "      <td>2009-04-08</td>\n",
       "      <td>Jeopardy!</td>\n",
       "      <td>IT'S A COUNTRY THING</td>\n",
       "      <td>$200</td>\n",
       "      <td>Hat dance &amp; jumping bean</td>\n",
       "      <td>Mexican</td>\n",
       "    </tr>\n",
       "    <tr>\n",
       "      <th>186569</th>\n",
       "      <td>6247</td>\n",
       "      <td>2011-11-15</td>\n",
       "      <td>Jeopardy!</td>\n",
       "      <td>MELTING POTPOURRI</td>\n",
       "      <td>$200</td>\n",
       "      <td>\"Our actors\", says Prospero, \"were all spirits...</td>\n",
       "      <td>air</td>\n",
       "    </tr>\n",
       "    <tr>\n",
       "      <th>45283</th>\n",
       "      <td>5687</td>\n",
       "      <td>2009-05-05</td>\n",
       "      <td>Jeopardy!</td>\n",
       "      <td>ARCHAEOLOGY</td>\n",
       "      <td>$200</td>\n",
       "      <td>In 1996 Franck Goddio discovered her palace un...</td>\n",
       "      <td>Cleopatra</td>\n",
       "    </tr>\n",
       "    <tr>\n",
       "      <th>184063</th>\n",
       "      <td>5023</td>\n",
       "      <td>2006-06-14</td>\n",
       "      <td>Jeopardy!</td>\n",
       "      <td>&amp; TAKIN' NAMES</td>\n",
       "      <td>$200</td>\n",
       "      <td>World poverty fighter, Time magazine Person of...</td>\n",
       "      <td>Bono</td>\n",
       "    </tr>\n",
       "    <tr>\n",
       "      <th>85474</th>\n",
       "      <td>5139</td>\n",
       "      <td>2007-01-04</td>\n",
       "      <td>Jeopardy!</td>\n",
       "      <td>BEAN</td>\n",
       "      <td>$200</td>\n",
       "      <td>This bean that shares the name of a South Amer...</td>\n",
       "      <td>lima</td>\n",
       "    </tr>\n",
       "    <tr>\n",
       "      <th>155694</th>\n",
       "      <td>5853</td>\n",
       "      <td>2010-02-10</td>\n",
       "      <td>Jeopardy!</td>\n",
       "      <td>BE TRUE TO YOUR SCHOOL</td>\n",
       "      <td>$200</td>\n",
       "      <td>The benefactor for whom this West Lafayette, I...</td>\n",
       "      <td>Purdue</td>\n",
       "    </tr>\n",
       "    <tr>\n",
       "      <th>147690</th>\n",
       "      <td>4293</td>\n",
       "      <td>2003-04-09</td>\n",
       "      <td>Jeopardy!</td>\n",
       "      <td>DECODE THE PERSONAL AD</td>\n",
       "      <td>$200</td>\n",
       "      <td>To start with, S. is for this</td>\n",
       "      <td>single</td>\n",
       "    </tr>\n",
       "  </tbody>\n",
       "</table>\n",
       "</div>"
      ],
      "text/plain": [
       "        Show Number    Air Date      Round                Category Value  \\\n",
       "166403         4536  2004-05-03  Jeopardy!         DOUBLE A, B, Cs  $200   \n",
       "781            4335  2003-06-06  Jeopardy!               MY PLACE?  $200   \n",
       "119920         5224  2007-05-03  Jeopardy!               POTPOURRI  $200   \n",
       "33882          5668  2009-04-08  Jeopardy!    IT'S A COUNTRY THING  $200   \n",
       "186569         6247  2011-11-15  Jeopardy!       MELTING POTPOURRI  $200   \n",
       "45283          5687  2009-05-05  Jeopardy!             ARCHAEOLOGY  $200   \n",
       "184063         5023  2006-06-14  Jeopardy!          & TAKIN' NAMES  $200   \n",
       "85474          5139  2007-01-04  Jeopardy!                    BEAN  $200   \n",
       "155694         5853  2010-02-10  Jeopardy!  BE TRUE TO YOUR SCHOOL  $200   \n",
       "147690         4293  2003-04-09  Jeopardy!  DECODE THE PERSONAL AD  $200   \n",
       "\n",
       "                                                 Question     Answer  \n",
       "166403  I'm this, you're glue, everything you say boun...     rubber  \n",
       "781     A Norman could say, \"I'm the king of the motte...     castle  \n",
       "119920  Shelley & Eliot would be happy to know that Ap...     poetry  \n",
       "33882                            Hat dance & jumping bean    Mexican  \n",
       "186569  \"Our actors\", says Prospero, \"were all spirits...        air  \n",
       "45283   In 1996 Franck Goddio discovered her palace un...  Cleopatra  \n",
       "184063  World poverty fighter, Time magazine Person of...       Bono  \n",
       "85474   This bean that shares the name of a South Amer...       lima  \n",
       "155694  The benefactor for whom this West Lafayette, I...     Purdue  \n",
       "147690                      To start with, S. is for this     single  "
      ]
     },
     "execution_count": 2,
     "metadata": {},
     "output_type": "execute_result"
    }
   ],
   "source": [
    "# extract subset of the data using the following criteria:\n",
    "# (1) only 'Jeopardy!' round\n",
    "# (2) no answers with numbers or questions containing images/links\n",
    "# (3) only shows after 4000 (to limit amount of data)\n",
    "# (4) only questions with 5 or more words\n",
    "# (5) only questions with a value of $200 or $1000\n",
    "\n",
    "jeopardy_data_sub = jeopardy_data[jeopardy_data['Round'] == 'Jeopardy!']\n",
    "jeopardy_data_sub = jeopardy_data_sub[jeopardy_data_sub.Answer.str.isalpha() == True]\n",
    "jeopardy_data_sub = jeopardy_data_sub[~jeopardy_data_sub.Question.str.contains(\"<a href=\")]\n",
    "jeopardy_data_sub = jeopardy_data_sub[jeopardy_data_sub['Show Number'] >= 4000]\n",
    "jeopardy_data_sub = jeopardy_data_sub[jeopardy_data_sub['Question'].str.split().str.len() >= 5]\n",
    "\n",
    "import random\n",
    "# get a sample of 1,000 for each Value\n",
    "jeopardy_data_sub_200 = jeopardy_data_sub[jeopardy_data_sub['Value']=='$200'].sample(2000, random_state=670)\n",
    "jeopardy_data_sub_1000 = jeopardy_data_sub[jeopardy_data_sub['Value']=='$1000'].sample(2000, random_state=670)\n",
    "jeopardy_data_sub = pd.concat([jeopardy_data_sub_200, jeopardy_data_sub_1000])\n",
    "\n",
    "\n",
    "print(jeopardy_data_sub.shape)\n",
    "jeopardy_data_sub.head(10)"
   ]
  },
  {
   "cell_type": "markdown",
   "metadata": {},
   "source": [
    "### Feature Extraction"
   ]
  },
  {
   "cell_type": "code",
   "execution_count": 3,
   "metadata": {},
   "outputs": [
    {
     "name": "stderr",
     "output_type": "stream",
     "text": [
      "/Library/Frameworks/Python.framework/Versions/3.7/lib/python3.7/site-packages/ipykernel_launcher.py:14: DeprecationWarning: Call to deprecated `wv` (Attribute will be removed in 4.0.0, use self instead).\n",
      "  \n"
     ]
    }
   ],
   "source": [
    "# use word embeddings to find the similarity between the question/topic and the answer\n",
    "\n",
    "import gensim \n",
    "\n",
    "# source: https://github.com/eyaler/word2vec-slim\n",
    "# example of pre-trained word embeddings, trained on Google News documents\n",
    "model = gensim.models.KeyedVectors.load_word2vec_format(\"GoogleNews-vectors-negative300-SLIM.bin\", binary=True)\n",
    "\n",
    "# source: https://stackoverflow.com/questions/22129943/how-to-calculate-the-sentence-similarity-using-word2vec-model-of-gensim-with-pyt\n",
    "\n",
    "import numpy as np\n",
    "from scipy import spatial\n",
    "\n",
    "index2word_set = set(model.wv.index2word)\n",
    "\n",
    "def avg_feature_vector(sentence, model, num_features, index2word_set):\n",
    "    words = sentence.split()\n",
    "    feature_vec = np.zeros((num_features, ), dtype='float32')\n",
    "    n_words = 0\n",
    "    for word in words:\n",
    "        if word in index2word_set:\n",
    "            n_words += 1\n",
    "            feature_vec = np.add(feature_vec, model[word])\n",
    "    if (n_words > 0):\n",
    "        feature_vec = np.divide(feature_vec, n_words)\n",
    "    return feature_vec\n",
    "\n",
    "# function to calculate the similarity between two sentences\n",
    "def calculate_sim(text1, text2):\n",
    "    s1_afv = avg_feature_vector(text1, model=model, num_features=300, index2word_set=index2word_set)\n",
    "    s2_afv = avg_feature_vector(text2, model=model, num_features=300, index2word_set=index2word_set)\n",
    "    sim = 1 - spatial.distance.cosine(s1_afv, s2_afv)\n",
    "    return sim"
   ]
  },
  {
   "cell_type": "code",
   "execution_count": 4,
   "metadata": {},
   "outputs": [],
   "source": [
    "# function to count the average word length in the sentence \n",
    "import numpy as np\n",
    "\n",
    "def avg_word_length(text):\n",
    "    lens = []\n",
    "    for word in text.split():\n",
    "        lens.append(len(word))\n",
    "    return np.mean(lens)\n",
    "\n",
    "# function to count the max word length in the sentence \n",
    "def longest_word(text):\n",
    "    lens = []\n",
    "    for word in text.split():\n",
    "        lens.append(len(word))\n",
    "    try:\n",
    "        return np.max(lens)\n",
    "    except:\n",
    "        return 0"
   ]
  },
  {
   "cell_type": "code",
   "execution_count": 5,
   "metadata": {},
   "outputs": [
    {
     "name": "stderr",
     "output_type": "stream",
     "text": [
      "/Library/Frameworks/Python.framework/Versions/3.7/lib/python3.7/site-packages/numpy/core/fromnumeric.py:3257: RuntimeWarning: Mean of empty slice.\n",
      "  out=out, **kwargs)\n",
      "/Library/Frameworks/Python.framework/Versions/3.7/lib/python3.7/site-packages/scipy/spatial/distance.py:720: RuntimeWarning: invalid value encountered in float_scalars\n",
      "  dist = 1.0 - uv / np.sqrt(uu * vv)\n"
     ]
    },
    {
     "data": {
      "text/html": [
       "<div>\n",
       "<style scoped>\n",
       "    .dataframe tbody tr th:only-of-type {\n",
       "        vertical-align: middle;\n",
       "    }\n",
       "\n",
       "    .dataframe tbody tr th {\n",
       "        vertical-align: top;\n",
       "    }\n",
       "\n",
       "    .dataframe thead th {\n",
       "        text-align: right;\n",
       "    }\n",
       "</style>\n",
       "<table border=\"1\" class=\"dataframe\">\n",
       "  <thead>\n",
       "    <tr style=\"text-align: right;\">\n",
       "      <th></th>\n",
       "      <th>Flesch Reading Ease Score</th>\n",
       "      <th>Flesch-Kincaid Grade Level</th>\n",
       "      <th>Longest Word (Question)</th>\n",
       "      <th>Longest Word (Answer)</th>\n",
       "      <th>Average Answer Word Length (Cleaned)</th>\n",
       "      <th>Answer Len (Cleaned)</th>\n",
       "      <th>QA Similarity</th>\n",
       "      <th>TA Similarity</th>\n",
       "    </tr>\n",
       "    <tr>\n",
       "      <th>Value</th>\n",
       "      <th></th>\n",
       "      <th></th>\n",
       "      <th></th>\n",
       "      <th></th>\n",
       "      <th></th>\n",
       "      <th></th>\n",
       "      <th></th>\n",
       "      <th></th>\n",
       "    </tr>\n",
       "  </thead>\n",
       "  <tbody>\n",
       "    <tr>\n",
       "      <th>$1000</th>\n",
       "      <td>70.390675</td>\n",
       "      <td>6.98215</td>\n",
       "      <td>9.8085</td>\n",
       "      <td>7.0475</td>\n",
       "      <td>7.060150</td>\n",
       "      <td>0.9975</td>\n",
       "      <td>0.275571</td>\n",
       "      <td>0.165164</td>\n",
       "    </tr>\n",
       "    <tr>\n",
       "      <th>$200</th>\n",
       "      <td>72.825295</td>\n",
       "      <td>6.51860</td>\n",
       "      <td>9.5480</td>\n",
       "      <td>6.5100</td>\n",
       "      <td>6.533434</td>\n",
       "      <td>0.9945</td>\n",
       "      <td>0.275524</td>\n",
       "      <td>0.168144</td>\n",
       "    </tr>\n",
       "  </tbody>\n",
       "</table>\n",
       "</div>"
      ],
      "text/plain": [
       "       Flesch Reading Ease Score  Flesch-Kincaid Grade Level  \\\n",
       "Value                                                          \n",
       "$1000                  70.390675                     6.98215   \n",
       "$200                   72.825295                     6.51860   \n",
       "\n",
       "       Longest Word (Question)  Longest Word (Answer)  \\\n",
       "Value                                                   \n",
       "$1000                   9.8085                 7.0475   \n",
       "$200                    9.5480                 6.5100   \n",
       "\n",
       "       Average Answer Word Length (Cleaned)  Answer Len (Cleaned)  \\\n",
       "Value                                                               \n",
       "$1000                              7.060150                0.9975   \n",
       "$200                               6.533434                0.9945   \n",
       "\n",
       "       QA Similarity  TA Similarity  \n",
       "Value                                \n",
       "$1000       0.275571       0.165164  \n",
       "$200        0.275524       0.168144  "
      ]
     },
     "execution_count": 5,
     "metadata": {},
     "output_type": "execute_result"
    }
   ],
   "source": [
    "import textstat as ts # source: https://pypi.org/project/textstat/\n",
    "\n",
    "# how many words are in the question?\n",
    "jeopardy_data_sub['Question Len'] = jeopardy_data_sub['Question'].apply(lambda x: ts.lexicon_count(x, removepunct=True))\n",
    "# what is the readability of the question?\n",
    "jeopardy_data_sub['Flesch Reading Ease Score'] = jeopardy_data_sub['Question'].apply(lambda text: ts.flesch_reading_ease(text))\n",
    "# what is the grade level associated the question?\n",
    "jeopardy_data_sub['Flesch-Kincaid Grade Level'] = jeopardy_data_sub['Question'].apply(lambda text:ts.flesch_kincaid_grade(text))\n",
    "# longest word in question? \n",
    "jeopardy_data_sub['Longest Word (Question)'] = jeopardy_data_sub['Question'].apply(lambda text:longest_word(text))\n",
    "# longest word in answer?\n",
    "jeopardy_data_sub['Longest Word (Answer)'] = jeopardy_data_sub['Answer'].apply(lambda text:longest_word(text))\n",
    "\n",
    "\n",
    "# clean questions/answers by lowercasing and removing stop words\n",
    "\n",
    "from nltk.corpus import stopwords\n",
    "stopwords = stopwords.words('english')\n",
    "\n",
    "jeopardy_data_sub['Question_cleaned'] = jeopardy_data_sub['Question'].apply(lambda x: \" \".join([word.lower() for word in x.split() if word.lower() not in stopwords]))\n",
    "jeopardy_data_sub['Answer_cleaned'] = jeopardy_data_sub['Answer'].apply(lambda x: \" \".join([word.lower() for word in x.split() if word.lower() not in stopwords]))\n",
    "jeopardy_data_sub['Category_cleaned'] = jeopardy_data_sub['Category'].apply(lambda x: \" \".join([word.lower() for word in x.split() if word.lower() not in stopwords]))\n",
    "\n",
    "# what is the average length of a word in the answer?\n",
    "jeopardy_data_sub['Average Answer Word Length (Cleaned)'] = jeopardy_data_sub['Answer_cleaned'].apply(lambda text: avg_word_length(text))\n",
    "# how many words are in the answer?\n",
    "jeopardy_data_sub['Answer Len (Cleaned)'] = jeopardy_data_sub['Answer_cleaned'].apply(lambda x: ts.lexicon_count(x, removepunct=True))\n",
    "\n",
    "# similarity between the question and answer\n",
    "jeopardy_data_sub['QA Similarity'] = jeopardy_data_sub.apply(lambda x: calculate_sim(x.Question_cleaned, x.Answer_cleaned), axis=1)\n",
    "# similarity between the topic and answer\n",
    "jeopardy_data_sub['TA Similarity'] = jeopardy_data_sub.apply(lambda x: calculate_sim(x.Category_cleaned, x.Answer_cleaned), axis=1)\n",
    "\n",
    "jeopardy_data_sub.groupby('Value')[['Flesch Reading Ease Score', \n",
    "         'Flesch-Kincaid Grade Level', 'Longest Word (Question)', 'Longest Word (Answer)',\n",
    "         'Average Answer Word Length (Cleaned)', 'Answer Len (Cleaned)', 'QA Similarity', 'TA Similarity']].mean()"
   ]
  },
  {
   "cell_type": "code",
   "execution_count": 6,
   "metadata": {
    "scrolled": true
   },
   "outputs": [
    {
     "data": {
      "text/plain": [
       "<matplotlib.axes._subplots.AxesSubplot at 0x14ae55590>"
      ]
     },
     "execution_count": 6,
     "metadata": {},
     "output_type": "execute_result"
    },
    {
     "data": {
      "image/png": "[encoded data removed]",
      "text/plain": [
       "<Figure size 432x288 with 1 Axes>"
      ]
     },
     "metadata": {
      "needs_background": "light"
     },
     "output_type": "display_data"
    }
   ],
   "source": [
    "import seaborn as sns \n",
    "sns.violinplot(x=\"Value\", y=\"TA Similarity\", data=jeopardy_data_sub)"
   ]
  },
  {
   "cell_type": "markdown",
   "metadata": {},
   "source": [
    "### Model Building & Evaluation"
   ]
  },
  {
   "cell_type": "code",
   "execution_count": 7,
   "metadata": {
    "scrolled": true
   },
   "outputs": [
    {
     "name": "stdout",
     "output_type": "stream",
     "text": [
      "(3000, 7)\n",
      "(3000,)\n",
      "(1000, 7)\n",
      "(1000,)\n"
     ]
    }
   ],
   "source": [
    "# split data into training and test sets\n",
    "\n",
    "from sklearn.model_selection import train_test_split\n",
    "\n",
    "cols_sub = ['Flesch Reading Ease Score', \n",
    "         'Flesch-Kincaid Grade Level', 'Longest Word (Question)', 'Longest Word (Answer)',\n",
    "         'Average Answer Word Length (Cleaned)', 'QA Similarity', 'TA Similarity']\n",
    "\n",
    "X = jeopardy_data_sub[cols_sub]\n",
    "y = jeopardy_data_sub['Value']\n",
    "\n",
    "X_train, X_test, y_train, y_test = train_test_split(X, y, stratify=y, random_state=0)\n",
    "# checks\n",
    "print(X_train.shape)\n",
    "print(y_train.shape)\n",
    "print(X_test.shape)\n",
    "print(y_test.shape)"
   ]
  },
  {
   "cell_type": "code",
   "execution_count": 8,
   "metadata": {},
   "outputs": [],
   "source": [
    "from sklearn.preprocessing import MinMaxScaler\n",
    "from sklearn.impute import SimpleImputer\n",
    "from sklearn.compose import ColumnTransformer\n",
    "\n",
    "scaler = ColumnTransformer(        \n",
    "        remainder='passthrough', \n",
    "        transformers=[\n",
    "            ('scaler', MinMaxScaler() , ['Flesch Reading Ease Score', \n",
    "         'Flesch-Kincaid Grade Level', 'Longest Word (Question)', 'Longest Word (Answer)',\n",
    "         'Average Answer Word Length (Cleaned)'])])\n",
    "\n",
    "X_train_scaled = scaler.fit_transform(X_train)\n",
    "X_test_scaled = scaler.transform(X_test)\n",
    "\n",
    "imputer = SimpleImputer(strategy='mean')\n",
    "X_train_imp = imputer.fit_transform(X_train_scaled)\n",
    "X_test_imp = imputer.transform(X_test_scaled)"
   ]
  },
  {
   "cell_type": "code",
   "execution_count": 9,
   "metadata": {},
   "outputs": [
    {
     "name": "stdout",
     "output_type": "stream",
     "text": [
      "Training Score: 0.5656666666666667\n",
      "Testing Score: 0.55\n",
      "              precision    recall  f1-score   support\n",
      "\n",
      "       $1000       0.56      0.47      0.51       500\n",
      "        $200       0.54      0.63      0.58       500\n",
      "\n",
      "    accuracy                           0.55      1000\n",
      "   macro avg       0.55      0.55      0.55      1000\n",
      "weighted avg       0.55      0.55      0.55      1000\n",
      "\n"
     ]
    }
   ],
   "source": [
    "from sklearn.naive_bayes import GaussianNB\n",
    "from sklearn.metrics import classification_report\n",
    "\n",
    "gnb = GaussianNB()\n",
    "gnb.fit(X_train_imp, y_train)\n",
    "preds = gnb.predict(X_test_imp)\n",
    "print(\"Training Score:\", gnb.score(X_train_imp, y_train))\n",
    "print(\"Testing Score:\", gnb.score(X_test_imp, y_test))\n",
    "print(classification_report(y_test, preds))"
   ]
  },
  {
   "cell_type": "code",
   "execution_count": 10,
   "metadata": {
    "scrolled": true
   },
   "outputs": [
    {
     "name": "stdout",
     "output_type": "stream",
     "text": [
      "Training Score: 0.571\n",
      "Testing Score: 0.564\n",
      "              precision    recall  f1-score   support\n",
      "\n",
      "       $1000       0.57      0.55      0.56       500\n",
      "        $200       0.56      0.58      0.57       500\n",
      "\n",
      "    accuracy                           0.56      1000\n",
      "   macro avg       0.56      0.56      0.56      1000\n",
      "weighted avg       0.56      0.56      0.56      1000\n",
      "\n"
     ]
    }
   ],
   "source": [
    "from sklearn.svm import LinearSVC\n",
    "\n",
    "svc = LinearSVC()\n",
    "svc.fit(X_train_imp, y_train)\n",
    "preds = svc.predict(X_test_imp)\n",
    "print(\"Training Score:\", svc.score(X_train_imp, y_train))\n",
    "print(\"Testing Score:\", svc.score(X_test_imp, y_test))\n",
    "print(classification_report(y_test, preds))"
   ]
  },
  {
   "cell_type": "code",
   "execution_count": 11,
   "metadata": {},
   "outputs": [
    {
     "name": "stdout",
     "output_type": "stream",
     "text": [
      "Fitting 3 folds for each of 5 candidates, totalling 15 fits\n"
     ]
    },
    {
     "name": "stderr",
     "output_type": "stream",
     "text": [
      "[Parallel(n_jobs=-1)]: Using backend LokyBackend with 4 concurrent workers.\n",
      "[Parallel(n_jobs=-1)]: Done  15 out of  15 | elapsed:   11.5s finished\n",
      "/Library/Frameworks/Python.framework/Versions/3.7/lib/python3.7/site-packages/sklearn/neural_network/_multilayer_perceptron.py:571: ConvergenceWarning: Stochastic Optimizer: Maximum iterations (200) reached and the optimization hasn't converged yet.\n",
      "  % self.max_iter, ConvergenceWarning)\n"
     ]
    },
    {
     "data": {
      "text/plain": [
       "{'alpha': 1e-05}"
      ]
     },
     "execution_count": 11,
     "metadata": {},
     "output_type": "execute_result"
    }
   ],
   "source": [
    "from sklearn.model_selection import GridSearchCV\n",
    "from sklearn.neural_network import MLPClassifier\n",
    "\n",
    "param_grid = {\n",
    "    'alpha': [0.00001, 0.0001, 0.001, 0.01, 0.1],\n",
    "}\n",
    "\n",
    "mlp = MLPClassifier(alpha=0.00001, random_state=0)\n",
    "grid_search = GridSearchCV(estimator = mlp, param_grid = param_grid, \n",
    "                          cv = 3, n_jobs = -1, verbose = 2)\n",
    "grid_search.fit(X_train_imp, y_train)\n",
    "grid_search.best_params_"
   ]
  },
  {
   "cell_type": "code",
   "execution_count": 12,
   "metadata": {},
   "outputs": [
    {
     "name": "stdout",
     "output_type": "stream",
     "text": [
      "Training Score: 0.5806666666666667\n",
      "Testing Score: 0.57\n",
      "              precision    recall  f1-score   support\n",
      "\n",
      "       $1000       0.58      0.52      0.55       500\n",
      "        $200       0.56      0.62      0.59       500\n",
      "\n",
      "    accuracy                           0.57      1000\n",
      "   macro avg       0.57      0.57      0.57      1000\n",
      "weighted avg       0.57      0.57      0.57      1000\n",
      "\n"
     ]
    },
    {
     "name": "stderr",
     "output_type": "stream",
     "text": [
      "/Library/Frameworks/Python.framework/Versions/3.7/lib/python3.7/site-packages/sklearn/neural_network/_multilayer_perceptron.py:571: ConvergenceWarning: Stochastic Optimizer: Maximum iterations (200) reached and the optimization hasn't converged yet.\n",
      "  % self.max_iter, ConvergenceWarning)\n"
     ]
    }
   ],
   "source": [
    "from sklearn.neural_network import MLPClassifier\n",
    "\n",
    "mlp = MLPClassifier(alpha=1e-05, random_state=0)\n",
    "mlp.fit(X_train_imp, y_train)\n",
    "preds = mlp.predict(X_test_imp)\n",
    "print(\"Training Score:\", mlp.score(X_train_imp, y_train))\n",
    "print(\"Testing Score:\", mlp.score(X_test_imp, y_test))\n",
    "print(classification_report(y_test, preds))"
   ]
  },
  {
   "cell_type": "code",
   "execution_count": 13,
   "metadata": {},
   "outputs": [
    {
     "name": "stderr",
     "output_type": "stream",
     "text": [
      "[Parallel(n_jobs=-1)]: Using backend LokyBackend with 4 concurrent workers.\n"
     ]
    },
    {
     "name": "stdout",
     "output_type": "stream",
     "text": [
      "Fitting 3 folds for each of 45 candidates, totalling 135 fits\n"
     ]
    },
    {
     "name": "stderr",
     "output_type": "stream",
     "text": [
      "[Parallel(n_jobs=-1)]: Done  33 tasks      | elapsed:    9.7s\n",
      "[Parallel(n_jobs=-1)]: Done 135 out of 135 | elapsed:   41.6s finished\n"
     ]
    },
    {
     "data": {
      "text/plain": [
       "{'max_depth': 2, 'max_features': 2, 'n_estimators': 100}"
      ]
     },
     "execution_count": 13,
     "metadata": {},
     "output_type": "execute_result"
    }
   ],
   "source": [
    "from sklearn.model_selection import GridSearchCV\n",
    "from sklearn.ensemble import RandomForestClassifier\n",
    "\n",
    "param_grid = {\n",
    "    'max_depth': [1,2,3,4,5],\n",
    "    'max_features': [2, 3, 4],\n",
    "    'n_estimators': [100, 200, 500]\n",
    "}\n",
    "\n",
    "rf = RandomForestClassifier(random_state=670)\n",
    "grid_search = GridSearchCV(estimator = rf, param_grid = param_grid, \n",
    "                          cv = 3, n_jobs = -1, verbose = 2)\n",
    "grid_search.fit(X_train_imp, y_train)\n",
    "grid_search.best_params_"
   ]
  },
  {
   "cell_type": "code",
   "execution_count": 14,
   "metadata": {},
   "outputs": [
    {
     "name": "stdout",
     "output_type": "stream",
     "text": [
      "Training Score: 0.5856666666666667\n",
      "Testing Score: 0.58\n",
      "              precision    recall  f1-score   support\n",
      "\n",
      "       $1000       0.59      0.55      0.57       500\n",
      "        $200       0.58      0.61      0.59       500\n",
      "\n",
      "    accuracy                           0.58      1000\n",
      "   macro avg       0.58      0.58      0.58      1000\n",
      "weighted avg       0.58      0.58      0.58      1000\n",
      "\n"
     ]
    }
   ],
   "source": [
    "rf = RandomForestClassifier(max_depth=2, max_features=2, n_estimators=100, random_state=670)\n",
    "rf.fit(X_train_imp, y_train)\n",
    "preds = rf.predict(X_test_imp)\n",
    "print(\"Training Score:\", rf.score(X_train_imp, y_train))\n",
    "print(\"Testing Score:\", rf.score(X_test_imp, y_test))\n",
    "\n",
    "print(classification_report(y_test, preds))"
   ]
  },
  {
   "cell_type": "code",
   "execution_count": 15,
   "metadata": {},
   "outputs": [
    {
     "data": {
      "image/png": "[encoded data removed]",
      "text/plain": [
       "<Figure size 432x288 with 1 Axes>"
      ]
     },
     "metadata": {
      "needs_background": "light"
     },
     "output_type": "display_data"
    }
   ],
   "source": [
    "# visualize feature importances from RF model\n",
    "# source: https://stackoverflow.com/questions/44101458/random-forest-feature-importance-chart-using-python\n",
    "import matplotlib.pyplot as plt\n",
    "features = X_train.columns\n",
    "importances = rf.feature_importances_\n",
    "indices = np.argsort(importances)\n",
    "\n",
    "font = {'family' : 'arial',\n",
    "        'size'   :14}\n",
    "\n",
    "plt.rc('font', **font)\n",
    "\n",
    "plt.title('Feature Importances')\n",
    "plt.barh(range(len(indices)), importances[indices], color='b', align='center')\n",
    "plt.yticks(range(len(indices)), [features[i] for i in indices])\n",
    "plt.xlabel('Relative Importance')\n",
    "plt.show()"
   ]
  }
 ],
 "metadata": {
  "kernelspec": {
   "display_name": "Python 3",
   "language": "python",
   "name": "python3"
  },
  "language_info": {
   "codemirror_mode": {
    "name": "ipython",
    "version": 3
   },
   "file_extension": ".py",
   "mimetype": "text/x-python",
   "name": "python",
   "nbconvert_exporter": "python",
   "pygments_lexer": "ipython3",
   "version": "3.7.6"
  }
 },
 "nbformat": 4,
 "nbformat_minor": 4
}
