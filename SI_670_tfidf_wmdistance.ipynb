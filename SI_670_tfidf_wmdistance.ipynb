{
  "nbformat": 4,
  "nbformat_minor": 0,
  "metadata": {
    "colab": {
      "name": "670_tfidf_wmdistance.ipynb",
      "provenance": [],
      "collapsed_sections": []
    },
    "kernelspec": {
      "name": "python3",
      "display_name": "Python 3"
    }
  },
  "cells": [
    {
      "cell_type": "code",
      "metadata": {
        "id": "1nQnLtLtciyP",
        "colab": {
          "base_uri": "https://localhost:8080/"
        },
        "outputId": "0d75d002-41b6-4241-d698-6501874fc536"
      },
      "source": [
        "from google.colab import drive\n",
        "drive.mount('/content/drive')"
      ],
      "execution_count": 32,
      "outputs": [
        {
          "output_type": "stream",
          "text": [
            "Drive already mounted at /content/drive; to attempt to forcibly remount, call drive.mount(\"/content/drive\", force_remount=True).\n"
          ],
          "name": "stdout"
        }
      ]
    },
    {
      "cell_type": "code",
      "metadata": {
        "id": "VoaGJCoLcpN0",
        "colab": {
          "base_uri": "https://localhost:8080/"
        },
        "outputId": "fa9ea76e-f180-44d9-a99a-cdb5e34a6322"
      },
      "source": [
        "%cd \"/content/drive/My Drive/Colab Notebooks//\""
      ],
      "execution_count": 33,
      "outputs": [
        {
          "output_type": "stream",
          "text": [
            "/content/drive/My Drive/Colab Notebooks\n"
          ],
          "name": "stdout"
        }
      ]
    },
    {
      "cell_type": "code",
      "metadata": {
        "id": "FRzL_RxPevx1",
        "colab": {
          "base_uri": "https://localhost:8080/"
        },
        "outputId": "773882d0-658e-4d67-ef05-a1f7ff98347e"
      },
      "source": [
        "import gensim.downloader as api\n",
        "model = api.load('word2vec-google-news-300')"
      ],
      "execution_count": 3,
      "outputs": [
        {
          "output_type": "stream",
          "text": [
            "[=================================================-] 99.9% 1661.9/1662.8MB downloaded\n"
          ],
          "name": "stdout"
        }
      ]
    },
    {
      "cell_type": "code",
      "metadata": {
        "id": "FyIG4daYpatW"
      },
      "source": [
        "import pandas as pd\n",
        "import numpy as np\n",
        "\n",
        "from sklearn.model_selection import train_test_split\n",
        "from sklearn.preprocessing import MinMaxScaler,StandardScaler\n",
        "from sklearn.preprocessing import PolynomialFeatures\n",
        "from sklearn.metrics import mean_absolute_error\n",
        "from sklearn.feature_extraction.text import CountVectorizer\n",
        "from sklearn.feature_extraction.text import TfidfTransformer,TfidfVectorizer\n",
        "from sklearn.metrics import classification_report\n",
        "import re"
      ],
      "execution_count": 34,
      "outputs": []
    },
    {
      "cell_type": "code",
      "metadata": {
        "colab": {
          "base_uri": "https://localhost:8080/",
          "height": 393
        },
        "id": "U_nc-BfAqOft",
        "outputId": "3ce9f160-0cd0-47c4-d8ea-c48ced5a826b"
      },
      "source": [
        "jeopardy_data = pd.read_csv('JEOPARDY_CSV.csv')\n",
        "# remove spaces from column names\n",
        "jeopardy_data.columns = [col.strip() for col in jeopardy_data.columns]\n",
        "print(jeopardy_data.shape)\n",
        "jeopardy_data.head()\n",
        "\n",
        "jeopardy_data_sub = jeopardy_data[jeopardy_data['Round'] == 'Jeopardy!']\n",
        "jeopardy_data_sub = jeopardy_data_sub[jeopardy_data_sub.Answer.str.isalpha() == True]\n",
        "jeopardy_data_sub = jeopardy_data_sub[~jeopardy_data_sub.Question.str.contains(\"<a href=\")]\n",
        "jeopardy_data_sub = jeopardy_data_sub[jeopardy_data_sub['Show Number'] >= 4000]\n",
        "jeopardy_data_sub = jeopardy_data_sub[jeopardy_data_sub['Question'].str.split().str.len() >= 5]\n",
        "\n",
        "import random\n",
        "# get a sample of 1,000 for each Value\n",
        "jeopardy_data_sub_200 = jeopardy_data_sub[jeopardy_data_sub['Value']=='$200'].sample(2000, random_state=670)\n",
        "jeopardy_data_sub_1000 = jeopardy_data_sub[jeopardy_data_sub['Value']=='$1000'].sample(2000, random_state=670)\n",
        "jeopardy_data_sub = pd.concat([jeopardy_data_sub_200, jeopardy_data_sub_1000])\n",
        "\n",
        "\n",
        "print(jeopardy_data_sub.shape)\n",
        "jeopardy_data_sub.head(10)"
      ],
      "execution_count": 6,
      "outputs": [
        {
          "output_type": "stream",
          "text": [
            "(216930, 7)\n",
            "(4000, 7)\n"
          ],
          "name": "stdout"
        },
        {
          "output_type": "execute_result",
          "data": {
            "text/html": [
              "<div>\n",
              "<style scoped>\n",
              "    .dataframe tbody tr th:only-of-type {\n",
              "        vertical-align: middle;\n",
              "    }\n",
              "\n",
              "    .dataframe tbody tr th {\n",
              "        vertical-align: top;\n",
              "    }\n",
              "\n",
              "    .dataframe thead th {\n",
              "        text-align: right;\n",
              "    }\n",
              "</style>\n",
              "<table border=\"1\" class=\"dataframe\">\n",
              "  <thead>\n",
              "    <tr style=\"text-align: right;\">\n",
              "      <th></th>\n",
              "      <th>Show Number</th>\n",
              "      <th>Air Date</th>\n",
              "      <th>Round</th>\n",
              "      <th>Category</th>\n",
              "      <th>Value</th>\n",
              "      <th>Question</th>\n",
              "      <th>Answer</th>\n",
              "    </tr>\n",
              "  </thead>\n",
              "  <tbody>\n",
              "    <tr>\n",
              "      <th>166403</th>\n",
              "      <td>4536</td>\n",
              "      <td>2004-05-03</td>\n",
              "      <td>Jeopardy!</td>\n",
              "      <td>DOUBLE A, B, Cs</td>\n",
              "      <td>$200</td>\n",
              "      <td>I'm this, you're glue, everything you say boun...</td>\n",
              "      <td>rubber</td>\n",
              "    </tr>\n",
              "    <tr>\n",
              "      <th>781</th>\n",
              "      <td>4335</td>\n",
              "      <td>2003-06-06</td>\n",
              "      <td>Jeopardy!</td>\n",
              "      <td>MY PLACE?</td>\n",
              "      <td>$200</td>\n",
              "      <td>A Norman could say, \"I'm the king of the motte...</td>\n",
              "      <td>castle</td>\n",
              "    </tr>\n",
              "    <tr>\n",
              "      <th>119920</th>\n",
              "      <td>5224</td>\n",
              "      <td>2007-05-03</td>\n",
              "      <td>Jeopardy!</td>\n",
              "      <td>POTPOURRI</td>\n",
              "      <td>$200</td>\n",
              "      <td>Shelley &amp; Eliot would be happy to know that Ap...</td>\n",
              "      <td>poetry</td>\n",
              "    </tr>\n",
              "    <tr>\n",
              "      <th>33882</th>\n",
              "      <td>5668</td>\n",
              "      <td>2009-04-08</td>\n",
              "      <td>Jeopardy!</td>\n",
              "      <td>IT'S A COUNTRY THING</td>\n",
              "      <td>$200</td>\n",
              "      <td>Hat dance &amp; jumping bean</td>\n",
              "      <td>Mexican</td>\n",
              "    </tr>\n",
              "    <tr>\n",
              "      <th>186569</th>\n",
              "      <td>6247</td>\n",
              "      <td>2011-11-15</td>\n",
              "      <td>Jeopardy!</td>\n",
              "      <td>MELTING POTPOURRI</td>\n",
              "      <td>$200</td>\n",
              "      <td>\"Our actors\", says Prospero, \"were all spirits...</td>\n",
              "      <td>air</td>\n",
              "    </tr>\n",
              "    <tr>\n",
              "      <th>45283</th>\n",
              "      <td>5687</td>\n",
              "      <td>2009-05-05</td>\n",
              "      <td>Jeopardy!</td>\n",
              "      <td>ARCHAEOLOGY</td>\n",
              "      <td>$200</td>\n",
              "      <td>In 1996 Franck Goddio discovered her palace un...</td>\n",
              "      <td>Cleopatra</td>\n",
              "    </tr>\n",
              "    <tr>\n",
              "      <th>184063</th>\n",
              "      <td>5023</td>\n",
              "      <td>2006-06-14</td>\n",
              "      <td>Jeopardy!</td>\n",
              "      <td>&amp; TAKIN' NAMES</td>\n",
              "      <td>$200</td>\n",
              "      <td>World poverty fighter, Time magazine Person of...</td>\n",
              "      <td>Bono</td>\n",
              "    </tr>\n",
              "    <tr>\n",
              "      <th>85474</th>\n",
              "      <td>5139</td>\n",
              "      <td>2007-01-04</td>\n",
              "      <td>Jeopardy!</td>\n",
              "      <td>BEAN</td>\n",
              "      <td>$200</td>\n",
              "      <td>This bean that shares the name of a South Amer...</td>\n",
              "      <td>lima</td>\n",
              "    </tr>\n",
              "    <tr>\n",
              "      <th>155694</th>\n",
              "      <td>5853</td>\n",
              "      <td>2010-02-10</td>\n",
              "      <td>Jeopardy!</td>\n",
              "      <td>BE TRUE TO YOUR SCHOOL</td>\n",
              "      <td>$200</td>\n",
              "      <td>The benefactor for whom this West Lafayette, I...</td>\n",
              "      <td>Purdue</td>\n",
              "    </tr>\n",
              "    <tr>\n",
              "      <th>147690</th>\n",
              "      <td>4293</td>\n",
              "      <td>2003-04-09</td>\n",
              "      <td>Jeopardy!</td>\n",
              "      <td>DECODE THE PERSONAL AD</td>\n",
              "      <td>$200</td>\n",
              "      <td>To start with, S. is for this</td>\n",
              "      <td>single</td>\n",
              "    </tr>\n",
              "  </tbody>\n",
              "</table>\n",
              "</div>"
            ],
            "text/plain": [
              "        Show Number  ...     Answer\n",
              "166403         4536  ...     rubber\n",
              "781            4335  ...     castle\n",
              "119920         5224  ...     poetry\n",
              "33882          5668  ...    Mexican\n",
              "186569         6247  ...        air\n",
              "45283          5687  ...  Cleopatra\n",
              "184063         5023  ...       Bono\n",
              "85474          5139  ...       lima\n",
              "155694         5853  ...     Purdue\n",
              "147690         4293  ...     single\n",
              "\n",
              "[10 rows x 7 columns]"
            ]
          },
          "metadata": {
            "tags": []
          },
          "execution_count": 6
        }
      ]
    },
    {
      "cell_type": "code",
      "metadata": {
        "id": "n0Qk4GTrqWNi"
      },
      "source": [
        "jeopardy_data_sub['distance'] = jeopardy_data_sub.apply(lambda x: model.wmdistance(str(x['Question']), str(x['Answer'])), axis=1)\n",
        "jeopardy_data_sub['cat'] = jeopardy_data_sub.apply(lambda x: model.wmdistance(str(x['Question']), str(x['Category'])), axis=1)"
      ],
      "execution_count": 7,
      "outputs": []
    },
    {
      "cell_type": "code",
      "metadata": {
        "id": "ul8H118irs08"
      },
      "source": [
        "jeopardy_data_sub['label']= jeopardy_data_sub['Value'].map(lambda x: int(x.replace('$','')))\n",
        "# turn labels to int\n",
        "jeopardy_data_sub['label_id'],group_name = pd.factorize(jeopardy_data_sub['label'])\n",
        "\n",
        "#jeopardy_data_sub['Show Number_id'],group_name = pd.factorize(jeopardy_data_sub['Show Number'])"
      ],
      "execution_count": 8,
      "outputs": []
    },
    {
      "cell_type": "code",
      "metadata": {
        "colab": {
          "base_uri": "https://localhost:8080/",
          "height": 306
        },
        "id": "xtKhN3I8sXkL",
        "outputId": "a0194301-8ac7-4537-92b6-1fee5f99f485"
      },
      "source": [
        "jeopardy_data_sub.head()"
      ],
      "execution_count": 9,
      "outputs": [
        {
          "output_type": "execute_result",
          "data": {
            "text/html": [
              "<div>\n",
              "<style scoped>\n",
              "    .dataframe tbody tr th:only-of-type {\n",
              "        vertical-align: middle;\n",
              "    }\n",
              "\n",
              "    .dataframe tbody tr th {\n",
              "        vertical-align: top;\n",
              "    }\n",
              "\n",
              "    .dataframe thead th {\n",
              "        text-align: right;\n",
              "    }\n",
              "</style>\n",
              "<table border=\"1\" class=\"dataframe\">\n",
              "  <thead>\n",
              "    <tr style=\"text-align: right;\">\n",
              "      <th></th>\n",
              "      <th>Show Number</th>\n",
              "      <th>Air Date</th>\n",
              "      <th>Round</th>\n",
              "      <th>Category</th>\n",
              "      <th>Value</th>\n",
              "      <th>Question</th>\n",
              "      <th>Answer</th>\n",
              "      <th>distance</th>\n",
              "      <th>cat</th>\n",
              "      <th>label</th>\n",
              "      <th>label_id</th>\n",
              "      <th>Show Number_id</th>\n",
              "    </tr>\n",
              "  </thead>\n",
              "  <tbody>\n",
              "    <tr>\n",
              "      <th>166403</th>\n",
              "      <td>4536</td>\n",
              "      <td>2004-05-03</td>\n",
              "      <td>Jeopardy!</td>\n",
              "      <td>DOUBLE A, B, Cs</td>\n",
              "      <td>$200</td>\n",
              "      <td>I'm this, you're glue, everything you say boun...</td>\n",
              "      <td>rubber</td>\n",
              "      <td>1.892638</td>\n",
              "      <td>2.835478</td>\n",
              "      <td>200</td>\n",
              "      <td>0</td>\n",
              "      <td>0</td>\n",
              "    </tr>\n",
              "    <tr>\n",
              "      <th>781</th>\n",
              "      <td>4335</td>\n",
              "      <td>2003-06-06</td>\n",
              "      <td>Jeopardy!</td>\n",
              "      <td>MY PLACE?</td>\n",
              "      <td>$200</td>\n",
              "      <td>A Norman could say, \"I'm the king of the motte...</td>\n",
              "      <td>castle</td>\n",
              "      <td>1.754963</td>\n",
              "      <td>3.130233</td>\n",
              "      <td>200</td>\n",
              "      <td>0</td>\n",
              "      <td>1</td>\n",
              "    </tr>\n",
              "    <tr>\n",
              "      <th>119920</th>\n",
              "      <td>5224</td>\n",
              "      <td>2007-05-03</td>\n",
              "      <td>Jeopardy!</td>\n",
              "      <td>POTPOURRI</td>\n",
              "      <td>$200</td>\n",
              "      <td>Shelley &amp; Eliot would be happy to know that Ap...</td>\n",
              "      <td>poetry</td>\n",
              "      <td>1.629959</td>\n",
              "      <td>3.043004</td>\n",
              "      <td>200</td>\n",
              "      <td>0</td>\n",
              "      <td>2</td>\n",
              "    </tr>\n",
              "    <tr>\n",
              "      <th>33882</th>\n",
              "      <td>5668</td>\n",
              "      <td>2009-04-08</td>\n",
              "      <td>Jeopardy!</td>\n",
              "      <td>IT'S A COUNTRY THING</td>\n",
              "      <td>$200</td>\n",
              "      <td>Hat dance &amp; jumping bean</td>\n",
              "      <td>Mexican</td>\n",
              "      <td>1.698437</td>\n",
              "      <td>2.877467</td>\n",
              "      <td>200</td>\n",
              "      <td>0</td>\n",
              "      <td>3</td>\n",
              "    </tr>\n",
              "    <tr>\n",
              "      <th>186569</th>\n",
              "      <td>6247</td>\n",
              "      <td>2011-11-15</td>\n",
              "      <td>Jeopardy!</td>\n",
              "      <td>MELTING POTPOURRI</td>\n",
              "      <td>$200</td>\n",
              "      <td>\"Our actors\", says Prospero, \"were all spirits...</td>\n",
              "      <td>air</td>\n",
              "      <td>2.066404</td>\n",
              "      <td>2.869591</td>\n",
              "      <td>200</td>\n",
              "      <td>0</td>\n",
              "      <td>4</td>\n",
              "    </tr>\n",
              "  </tbody>\n",
              "</table>\n",
              "</div>"
            ],
            "text/plain": [
              "        Show Number    Air Date      Round  ... label label_id Show Number_id\n",
              "166403         4536  2004-05-03  Jeopardy!  ...   200        0              0\n",
              "781            4335  2003-06-06  Jeopardy!  ...   200        0              1\n",
              "119920         5224  2007-05-03  Jeopardy!  ...   200        0              2\n",
              "33882          5668  2009-04-08  Jeopardy!  ...   200        0              3\n",
              "186569         6247  2011-11-15  Jeopardy!  ...   200        0              4\n",
              "\n",
              "[5 rows x 12 columns]"
            ]
          },
          "metadata": {
            "tags": []
          },
          "execution_count": 9
        }
      ]
    },
    {
      "cell_type": "code",
      "metadata": {
        "id": "CQb5XMOkfIg2"
      },
      "source": [
        "\n",
        "X = jeopardy_data_sub.filter(['Question','distance','cat'])\n",
        "\n",
        "X_train, X_test, y_train, y_test = train_test_split(\n",
        "    X, jeopardy_data_sub['label_id'], \n",
        "                   stratify=jeopardy_data_sub['label_id'],random_state=0)\n",
        "\n",
        "vectorizer = TfidfVectorizer(stop_words='english',\n",
        "                             sublinear_tf=True,\n",
        "                             strip_accents='unicode',\n",
        "                             analyzer='word',\n",
        "                             token_pattern=r'\\w{2,}',  #vectorize 2-character words or more\n",
        "                             ngram_range=(1, 2),\n",
        "                             max_features=1000)\n",
        "\n",
        "\n",
        "\n",
        "X = vectorizer.fit_transform(X_train['Question']).toarray()\n",
        "X = pd.DataFrame(X)\n",
        "\n",
        "X_train['mean'] = X.mean(axis=1).values\n",
        "X_train = X_train.filter(['mean','cat','distance'])\n",
        "\n",
        "test = vectorizer.transform(X_test['Question']).toarray()\n",
        "test = pd.DataFrame(test)\n",
        "X_test['mean'] = test.mean(axis=1).values\n",
        "X_test = X_test.filter(['mean','cat','distance'])\n",
        "\n",
        "X_train\n",
        "\n",
        "scaler = MinMaxScaler()\n",
        "X_train = scaler.fit_transform(X_train)\n",
        "X_test = scaler.transform(X_test)"
      ],
      "execution_count": 35,
      "outputs": []
    },
    {
      "cell_type": "code",
      "metadata": {
        "colab": {
          "base_uri": "https://localhost:8080/"
        },
        "id": "P08CpsY3fL1M",
        "outputId": "76150769-dfeb-4c27-e8c5-dabc395127a4"
      },
      "source": [
        "from sklearn.naive_bayes import MultinomialNB\n",
        "from sklearn.metrics import mean_absolute_error\n",
        "from sklearn.linear_model import LogisticRegression\n",
        "from sklearn.metrics import classification_report\n",
        "\n",
        "clf = MultinomialNB().fit(X_train, y_train)\n",
        "pred = clf.predict(X_train)\n",
        "print(\"Train MAE: \",mean_absolute_error(y_train, pred))\n",
        "print(\"Train acc:\",np.mean(pred == y_train))\n",
        "\n",
        "pred_test = clf.predict(X_test)\n",
        "print(\"Test MAE: \",mean_absolute_error(y_test, pred_test))\n",
        "print(\"Test acc:\",np.mean(pred_test == y_test))\n",
        "print(classification_report(y_test, pred_test))"
      ],
      "execution_count": 36,
      "outputs": [
        {
          "output_type": "stream",
          "text": [
            "Train MAE:  0.4726666666666667\n",
            "Train acc: 0.5273333333333333\n",
            "Test MAE:  0.463\n",
            "Test acc: 0.537\n",
            "              precision    recall  f1-score   support\n",
            "\n",
            "           0       0.54      0.54      0.54       500\n",
            "           1       0.54      0.53      0.54       500\n",
            "\n",
            "    accuracy                           0.54      1000\n",
            "   macro avg       0.54      0.54      0.54      1000\n",
            "weighted avg       0.54      0.54      0.54      1000\n",
            "\n"
          ],
          "name": "stdout"
        }
      ]
    },
    {
      "cell_type": "code",
      "metadata": {
        "colab": {
          "base_uri": "https://localhost:8080/"
        },
        "id": "DGrcoVKMI7D3",
        "outputId": "ec1b7033-597b-4a24-c883-0bea4f808b92"
      },
      "source": [
        "from sklearn.ensemble import RandomForestClassifier\n",
        "from sklearn.model_selection import GridSearchCV\n",
        "from sklearn.metrics import classification_report\n",
        "\n",
        "param_grid = {\n",
        "    'max_depth': [1,2,3,4,5],\n",
        "    'max_features': [2, 3, 4],\n",
        "    'n_estimators': [100, 200, 500]\n",
        "}\n",
        "\n",
        "rf = RandomForestClassifier(random_state=670)\n",
        "grid_search = GridSearchCV(estimator = rf, param_grid = param_grid, \n",
        "                          cv = 3, n_jobs = -1, verbose = 2)\n",
        "grid_search.fit(X_train, y_train)\n",
        "grid_search.best_params_"
      ],
      "execution_count": 27,
      "outputs": [
        {
          "output_type": "stream",
          "text": [
            "Fitting 3 folds for each of 45 candidates, totalling 135 fits\n"
          ],
          "name": "stdout"
        },
        {
          "output_type": "stream",
          "text": [
            "[Parallel(n_jobs=-1)]: Using backend LokyBackend with 2 concurrent workers.\n",
            "[Parallel(n_jobs=-1)]: Done  37 tasks      | elapsed:   12.7s\n",
            "[Parallel(n_jobs=-1)]: Done 135 out of 135 | elapsed:   54.6s finished\n"
          ],
          "name": "stderr"
        },
        {
          "output_type": "execute_result",
          "data": {
            "text/plain": [
              "{'max_depth': 3, 'max_features': 2, 'n_estimators': 500}"
            ]
          },
          "metadata": {
            "tags": []
          },
          "execution_count": 27
        }
      ]
    },
    {
      "cell_type": "code",
      "metadata": {
        "colab": {
          "base_uri": "https://localhost:8080/"
        },
        "id": "9Kf60dw_tfic",
        "outputId": "9fa66883-e890-49f8-ad49-a8de3aeb8a0b"
      },
      "source": [
        "# RandomForest\n",
        "from sklearn.ensemble import RandomForestClassifier\n",
        "\n",
        "reg = RandomForestClassifier(max_depth=3,max_features=2,n_estimators= 500,random_state=670\n",
        "                             ).fit(X_train, y_train)\n",
        "\n",
        "y_pred_train = reg.predict(X_train)\n",
        "print('train mae: ')\n",
        "a = mean_absolute_error(y_train,y_pred_train)\n",
        "print(a)\n",
        "print(\"Train acc:\",np.mean(y_pred_train == y_train))\n",
        "\n",
        "\n",
        "print('test mae: ')\n",
        "prediction = reg.predict(X_test)\n",
        "b = mean_absolute_error(y_test, prediction)\n",
        "print(b)\n",
        "print('Test accuracy: ',np.mean(prediction == y_test))\n",
        "print(classification_report(y_test, prediction))"
      ],
      "execution_count": 39,
      "outputs": [
        {
          "output_type": "stream",
          "text": [
            "train mae: \n",
            "0.43\n",
            "Train acc: 0.57\n",
            "test mae: \n",
            "0.479\n",
            "Test accuracy:  0.521\n",
            "              precision    recall  f1-score   support\n",
            "\n",
            "           0       0.51      0.77      0.62       500\n",
            "           1       0.54      0.28      0.37       500\n",
            "\n",
            "    accuracy                           0.52      1000\n",
            "   macro avg       0.53      0.52      0.49      1000\n",
            "weighted avg       0.53      0.52      0.49      1000\n",
            "\n"
          ],
          "name": "stdout"
        }
      ]
    },
    {
      "cell_type": "code",
      "metadata": {
        "colab": {
          "base_uri": "https://localhost:8080/"
        },
        "id": "5ITci1HPIuyU",
        "outputId": "85f688bc-8fff-469d-9e6b-77f93c0d93dd"
      },
      "source": [
        "from sklearn import svm\n",
        "from sklearn.model_selection import GridSearchCV\n",
        "from sklearn.metrics import classification_report\n",
        "\n",
        "parameters = {'kernel':('rbf','linear'), 'C':[0.01,0.1,0.5,1]} #,'gamma':[ 50, 80, 100] 'linear', \n",
        "svc = svm.SVC() \n",
        "S = GridSearchCV(svc, parameters)\n",
        "S.fit(X_train, y_train)\n",
        "print(\"best: \",S.best_params_)\n",
        "\n",
        "\n",
        "y_pred_train = S.predict(X_train)\n",
        "print('train mae: ')\n",
        "a = mean_absolute_error(y_train,y_pred_train)\n",
        "print(a)\n",
        "print(\"Train acc:\",np.mean(y_pred_train == y_train))\n",
        "\n",
        "print('test mae: ')\n",
        "prediction = S.predict(X_test)\n",
        "b = mean_absolute_error(y_test, prediction)\n",
        "print(b)\n",
        "print(\"Test acc:\",np.mean(y_test == prediction))\n",
        "print('best params: ',S.best_params_)\n",
        "print(classification_report(y_test, prediction))"
      ],
      "execution_count": 40,
      "outputs": [
        {
          "output_type": "stream",
          "text": [
            "best:  {'C': 0.1, 'kernel': 'rbf'}\n",
            "train mae: \n",
            "0.45866666666666667\n",
            "Train acc: 0.5413333333333333\n",
            "test mae: \n",
            "0.476\n",
            "Test acc: 0.524\n",
            "best params:  {'C': 0.1, 'kernel': 'rbf'}\n",
            "              precision    recall  f1-score   support\n",
            "\n",
            "           0       0.52      0.75      0.61       500\n",
            "           1       0.54      0.30      0.38       500\n",
            "\n",
            "    accuracy                           0.52      1000\n",
            "   macro avg       0.53      0.52      0.50      1000\n",
            "weighted avg       0.53      0.52      0.50      1000\n",
            "\n"
          ],
          "name": "stdout"
        }
      ]
    },
    {
      "cell_type": "code",
      "metadata": {
        "id": "SpxL5s-0kthX"
      },
      "source": [
        ""
      ],
      "execution_count": null,
      "outputs": []
    }
  ]
}